{
 "cells": [
  {
   "cell_type": "code",
   "execution_count": 1,
   "metadata": {},
   "outputs": [
    {
     "name": "stderr",
     "output_type": "stream",
     "text": [
      "/home/ubuntu/anaconda3/envs/tensorflow_p36/lib/python3.6/importlib/_bootstrap.py:219: RuntimeWarning: numpy.dtype size changed, may indicate binary incompatibility. Expected 96, got 88\n",
      "  return f(*args, **kwds)\n",
      "/home/ubuntu/anaconda3/envs/tensorflow_p36/lib/python3.6/site-packages/h5py/__init__.py:36: FutureWarning: Conversion of the second argument of issubdtype from `float` to `np.floating` is deprecated. In future, it will be treated as `np.float64 == np.dtype(float).type`.\n",
      "  from ._conv import register_converters as _register_converters\n",
      "Using TensorFlow backend.\n",
      "/home/ubuntu/anaconda3/envs/tensorflow_p36/lib/python3.6/importlib/_bootstrap.py:219: RuntimeWarning: numpy.dtype size changed, may indicate binary incompatibility. Expected 96, got 88\n",
      "  return f(*args, **kwds)\n",
      "/home/ubuntu/anaconda3/envs/tensorflow_p36/lib/python3.6/importlib/_bootstrap.py:219: RuntimeWarning: numpy.dtype size changed, may indicate binary incompatibility. Expected 96, got 88\n",
      "  return f(*args, **kwds)\n"
     ]
    }
   ],
   "source": [
    "import os\n",
    "import shutil\n",
    "\n",
    "\n",
    "from keras.models import *\n",
    "from keras.layers import *\n",
    "from keras.applications import *\n",
    "from keras.preprocessing.image import *\n",
    "import numpy as np\n",
    "from sklearn.utils import shuffle\n",
    "np.random.seed(1)\n",
    "from keras import backend as K\n",
    "\n",
    "import h5py\n",
    "import sys\n",
    "\n",
    "from PIL import Image\n",
    "sys.modules['Image'] = Image"
   ]
  },
  {
   "cell_type": "code",
   "execution_count": 6,
   "metadata": {},
   "outputs": [
    {
     "name": "stdout",
     "output_type": "stream",
     "text": [
      "example input ('folder1','folder2')\n",
      "example input ('folder1','folder2')\n"
     ]
    }
   ],
   "source": [
    "# preprocessing, move files to current project folder use soft link to faster and reduce space usage\n",
    "\n",
    "keras_download_train = '/home/ubuntu/.kaggle/competitions/dogs-vs-cats-redux-kernels-edition/train'\n",
    "keras_download_test = '/home/ubuntu/.kaggle/competitions/dogs-vs-cats-redux-kernels-edition/test'\n",
    "train_filenames_list = os.listdir(keras_download_train)\n",
    "\n",
    "train_cat = list(filter(lambda x:x[:3] == 'cat', train_filenames_list))\n",
    "train_dog = list(filter(lambda x:x[:3] == 'dog', train_filenames_list))\n",
    "\n",
    "\n",
    "def check_make_dir(*dirs):\n",
    "    print(\"example input ('folder1','folder2')\")\n",
    "    for count,dirname in enumerate(dirs):\n",
    "        if os.path.exists(dirname) and os.path.isdir(dirname):\n",
    "            shutil.rmtree(dirname)\n",
    "        os.mkdir(dirname)\n",
    "        \n",
    "check_make_dir('train2','train2/cat','train2/dog','test2')\n",
    "\n",
    "check_make_dir('train','train/cat','train/dog','test','validation','validation/cat','validation/dog')\n",
    "        \n",
    "        \n",
    "os.symlink(keras_download_test, 'test2/test')\n",
    "\n",
    "for filename in train_cat:\n",
    "    os.symlink(keras_download_train+'/'+filename, 'train2/cat/'+filename)\n",
    "\n",
    "for filename in train_dog:\n",
    "    os.symlink(keras_download_train+'/'+filename, 'train2/dog/'+filename)\n",
    "    \n",
    "\n",
    "os.symlink(keras_download_test, 'test/test')\n",
    "\n",
    "for filename in train_cat[:10000]:\n",
    "    os.symlink(keras_download_train+'/'+filename, 'train/cat/'+filename)\n",
    "\n",
    "for filename in train_dog[:10000]:\n",
    "    os.symlink(keras_download_train+'/'+filename, 'train/dog/'+filename)\n",
    "    \n",
    "for filename in train_cat[10000:]:\n",
    "    os.symlink(keras_download_train+'/'+filename, 'validation/cat/'+filename)\n",
    "\n",
    "for filename in train_dog[10000:]:\n",
    "    os.symlink(keras_download_train+'/'+filename, 'validation/dog/'+filename)\n",
    "    "
   ]
  },
  {
   "cell_type": "code",
   "execution_count": 2,
   "metadata": {},
   "outputs": [],
   "source": [
    "def get_input_shape(img_width, img_height):\n",
    "    if K.image_data_format() == 'channels_first':\n",
    "        input_shape = (3,img_width,img_height)\n",
    "    else:\n",
    "        input_shape = (img_width,img_height,3)\n",
    "    return input_shape\n"
   ]
  },
  {
   "cell_type": "code",
   "execution_count": 2,
   "metadata": {},
   "outputs": [
    {
     "name": "stdout",
     "output_type": "stream",
     "text": [
      "Found 25000 images belonging to 2 classes.\n",
      "Found 12500 images belonging to 1 classes.\n"
     ]
    },
    {
     "name": "stderr",
     "output_type": "stream",
     "text": [
      "/home/ubuntu/anaconda3/envs/tensorflow_p36/lib/python3.6/site-packages/keras_preprocessing/image.py:959: UserWarning: This ImageDataGenerator specifies `featurewise_center`, but it hasn't been fit on any training data. Fit it first by calling `.fit(numpy_data)`.\n",
      "  warnings.warn('This ImageDataGenerator specifies '\n"
     ]
    },
    {
     "name": "stdout",
     "output_type": "stream",
     "text": [
      "25000/25000 [==============================] - 20727s 829ms/step\n",
      "12500/12500 [==============================] - 10371s 830ms/step\n"
     ]
    }
   ],
   "source": [
    "# prepare image tensor\n",
    "\n",
    "image_gen = ImageDataGenerator(featurewise_center=True,fill_mode='constant', \n",
    "                               cval=0, horizontal_flip=True, rotation_range=20, shear_range=0.2)\n",
    "\n",
    "train_gen = image_gen.flow_from_directory(\"train2\", (299, 299), shuffle=False, \n",
    "                                    batch_size=32, class_mode=None)\n",
    "\n",
    "test_gen = image_gen.flow_from_directory(\"test2\", (299, 299), shuffle=False, \n",
    "                                         batch_size=32, class_mode=None)\n",
    "\n",
    "train_filenames = train_gen.filenames\n",
    "train_nb_samples = len(train_filenames)\n",
    "\n",
    "test_filenames = test_gen.filenames\n",
    "test_nb_samples = len(test_filenames)\n",
    "\n",
    "\n",
    "# define professor X\n",
    "x = Input((299, 299, 3))\n",
    "x = InceptionResNetV2(input_tensor=x, weights='imagenet', include_top=False, pooling = 'avg')\n",
    "\n",
    "\n",
    "train = x.predict_generator(train_gen, steps=train_nb_samples, \n",
    "                                            verbose=1)\n",
    "\n",
    "test = x.predict_generator(test_gen, steps=test_nb_samples, \n",
    "                                           verbose=1)\n",
    "    "
   ]
  },
  {
   "cell_type": "code",
   "execution_count": 5,
   "metadata": {},
   "outputs": [
    {
     "name": "stdout",
     "output_type": "stream",
     "text": [
      "The history saving thread hit an unexpected error (OperationalError('database or disk is full',)).History will not be written to the database.\n"
     ]
    },
    {
     "ename": "OSError",
     "evalue": "Can't prepare for writing data (file write failed: time = Thu Aug  2 10:03:41 2018\n, filename = 'gap_InceptionResNetV2.h5', file descriptor = 63, errno = 28, error message = 'No space left on device', buf = 0x7ff4c6973fb0, total write size = 1868353632, bytes this sub-write = 1868353632, bytes actually written = 18446744073709551615, offset = 10408222720)",
     "output_type": "error",
     "traceback": [
      "\u001b[0;31m---------------------------------------------------------------------------\u001b[0m",
      "\u001b[0;31mOSError\u001b[0m                                   Traceback (most recent call last)",
      "\u001b[0;32m<ipython-input-5-58f3123af416>\u001b[0m in \u001b[0;36m<module>\u001b[0;34m()\u001b[0m\n\u001b[1;32m      1\u001b[0m \u001b[0;32mwith\u001b[0m \u001b[0mh5py\u001b[0m\u001b[0;34m.\u001b[0m\u001b[0mFile\u001b[0m\u001b[0;34m(\u001b[0m\u001b[0;34m\"gap_{0}.h5\"\u001b[0m\u001b[0;34m.\u001b[0m\u001b[0mformat\u001b[0m\u001b[0;34m(\u001b[0m\u001b[0;34m'InceptionResNetV2'\u001b[0m\u001b[0;34m)\u001b[0m\u001b[0;34m)\u001b[0m \u001b[0;32mas\u001b[0m \u001b[0mh\u001b[0m\u001b[0;34m:\u001b[0m\u001b[0;34m\u001b[0m\u001b[0m\n\u001b[0;32m----> 2\u001b[0;31m     \u001b[0mh\u001b[0m\u001b[0;34m.\u001b[0m\u001b[0mcreate_dataset\u001b[0m\u001b[0;34m(\u001b[0m\u001b[0;34m\"train\"\u001b[0m\u001b[0;34m,\u001b[0m \u001b[0mdata\u001b[0m\u001b[0;34m=\u001b[0m\u001b[0mtrain\u001b[0m\u001b[0;34m)\u001b[0m\u001b[0;34m\u001b[0m\u001b[0m\n\u001b[0m\u001b[1;32m      3\u001b[0m     \u001b[0mh\u001b[0m\u001b[0;34m.\u001b[0m\u001b[0mcreate_dataset\u001b[0m\u001b[0;34m(\u001b[0m\u001b[0;34m\"test\"\u001b[0m\u001b[0;34m,\u001b[0m \u001b[0mdata\u001b[0m\u001b[0;34m=\u001b[0m\u001b[0mtest\u001b[0m\u001b[0;34m)\u001b[0m\u001b[0;34m\u001b[0m\u001b[0m\n\u001b[1;32m      4\u001b[0m     \u001b[0mh\u001b[0m\u001b[0;34m.\u001b[0m\u001b[0mcreate_dataset\u001b[0m\u001b[0;34m(\u001b[0m\u001b[0;34m\"label\"\u001b[0m\u001b[0;34m,\u001b[0m \u001b[0mdata\u001b[0m\u001b[0;34m=\u001b[0m\u001b[0mtrain_gen\u001b[0m\u001b[0;34m.\u001b[0m\u001b[0mclasses\u001b[0m\u001b[0;34m)\u001b[0m\u001b[0;34m\u001b[0m\u001b[0m\n\u001b[1;32m      5\u001b[0m \u001b[0;34m\u001b[0m\u001b[0m\n",
      "\u001b[0;32m~/anaconda3/envs/tensorflow_p36/lib/python3.6/site-packages/h5py/_hl/group.py\u001b[0m in \u001b[0;36mcreate_dataset\u001b[0;34m(self, name, shape, dtype, data, **kwds)\u001b[0m\n\u001b[1;32m    104\u001b[0m         \"\"\"\n\u001b[1;32m    105\u001b[0m         \u001b[0;32mwith\u001b[0m \u001b[0mphil\u001b[0m\u001b[0;34m:\u001b[0m\u001b[0;34m\u001b[0m\u001b[0m\n\u001b[0;32m--> 106\u001b[0;31m             \u001b[0mdsid\u001b[0m \u001b[0;34m=\u001b[0m \u001b[0mdataset\u001b[0m\u001b[0;34m.\u001b[0m\u001b[0mmake_new_dset\u001b[0m\u001b[0;34m(\u001b[0m\u001b[0mself\u001b[0m\u001b[0;34m,\u001b[0m \u001b[0mshape\u001b[0m\u001b[0;34m,\u001b[0m \u001b[0mdtype\u001b[0m\u001b[0;34m,\u001b[0m \u001b[0mdata\u001b[0m\u001b[0;34m,\u001b[0m \u001b[0;34m**\u001b[0m\u001b[0mkwds\u001b[0m\u001b[0;34m)\u001b[0m\u001b[0;34m\u001b[0m\u001b[0m\n\u001b[0m\u001b[1;32m    107\u001b[0m             \u001b[0mdset\u001b[0m \u001b[0;34m=\u001b[0m \u001b[0mdataset\u001b[0m\u001b[0;34m.\u001b[0m\u001b[0mDataset\u001b[0m\u001b[0;34m(\u001b[0m\u001b[0mdsid\u001b[0m\u001b[0;34m)\u001b[0m\u001b[0;34m\u001b[0m\u001b[0m\n\u001b[1;32m    108\u001b[0m             \u001b[0;32mif\u001b[0m \u001b[0mname\u001b[0m \u001b[0;32mis\u001b[0m \u001b[0;32mnot\u001b[0m \u001b[0;32mNone\u001b[0m\u001b[0;34m:\u001b[0m\u001b[0;34m\u001b[0m\u001b[0m\n",
      "\u001b[0;32m~/anaconda3/envs/tensorflow_p36/lib/python3.6/site-packages/h5py/_hl/dataset.py\u001b[0m in \u001b[0;36mmake_new_dset\u001b[0;34m(parent, shape, dtype, data, chunks, compression, shuffle, fletcher32, maxshape, compression_opts, fillvalue, scaleoffset, track_times)\u001b[0m\n\u001b[1;32m    141\u001b[0m \u001b[0;34m\u001b[0m\u001b[0m\n\u001b[1;32m    142\u001b[0m     \u001b[0;32mif\u001b[0m \u001b[0;34m(\u001b[0m\u001b[0mdata\u001b[0m \u001b[0;32mis\u001b[0m \u001b[0;32mnot\u001b[0m \u001b[0;32mNone\u001b[0m\u001b[0;34m)\u001b[0m \u001b[0;32mand\u001b[0m \u001b[0;34m(\u001b[0m\u001b[0;32mnot\u001b[0m \u001b[0misinstance\u001b[0m\u001b[0;34m(\u001b[0m\u001b[0mdata\u001b[0m\u001b[0;34m,\u001b[0m \u001b[0mEmpty\u001b[0m\u001b[0;34m)\u001b[0m\u001b[0;34m)\u001b[0m\u001b[0;34m:\u001b[0m\u001b[0;34m\u001b[0m\u001b[0m\n\u001b[0;32m--> 143\u001b[0;31m         \u001b[0mdset_id\u001b[0m\u001b[0;34m.\u001b[0m\u001b[0mwrite\u001b[0m\u001b[0;34m(\u001b[0m\u001b[0mh5s\u001b[0m\u001b[0;34m.\u001b[0m\u001b[0mALL\u001b[0m\u001b[0;34m,\u001b[0m \u001b[0mh5s\u001b[0m\u001b[0;34m.\u001b[0m\u001b[0mALL\u001b[0m\u001b[0;34m,\u001b[0m \u001b[0mdata\u001b[0m\u001b[0;34m)\u001b[0m\u001b[0;34m\u001b[0m\u001b[0m\n\u001b[0m\u001b[1;32m    144\u001b[0m \u001b[0;34m\u001b[0m\u001b[0m\n\u001b[1;32m    145\u001b[0m     \u001b[0;32mreturn\u001b[0m \u001b[0mdset_id\u001b[0m\u001b[0;34m\u001b[0m\u001b[0m\n",
      "\u001b[0;32mh5py/_objects.pyx\u001b[0m in \u001b[0;36mh5py._objects.with_phil.wrapper\u001b[0;34m()\u001b[0m\n",
      "\u001b[0;32mh5py/_objects.pyx\u001b[0m in \u001b[0;36mh5py._objects.with_phil.wrapper\u001b[0;34m()\u001b[0m\n",
      "\u001b[0;32mh5py/h5d.pyx\u001b[0m in \u001b[0;36mh5py.h5d.DatasetID.write\u001b[0;34m()\u001b[0m\n",
      "\u001b[0;32mh5py/_proxy.pyx\u001b[0m in \u001b[0;36mh5py._proxy.dset_rw\u001b[0;34m()\u001b[0m\n",
      "\u001b[0;32mh5py/_proxy.pyx\u001b[0m in \u001b[0;36mh5py._proxy.H5PY_H5Dwrite\u001b[0;34m()\u001b[0m\n",
      "\u001b[0;31mOSError\u001b[0m: Can't prepare for writing data (file write failed: time = Thu Aug  2 10:03:41 2018\n, filename = 'gap_InceptionResNetV2.h5', file descriptor = 63, errno = 28, error message = 'No space left on device', buf = 0x7ff4c6973fb0, total write size = 1868353632, bytes this sub-write = 1868353632, bytes actually written = 18446744073709551615, offset = 10408222720)"
     ]
    }
   ],
   "source": [
    "with h5py.File(\"gap_{0}.h5\".format('InceptionResNetV2')) as h:\n",
    "    h.create_dataset(\"train\", data=train)\n",
    "    h.create_dataset(\"test\", data=test)\n",
    "    h.create_dataset(\"label\", data=train_gen.classes)\n",
    "        "
   ]
  },
  {
   "cell_type": "code",
   "execution_count": 28,
   "metadata": {},
   "outputs": [
    {
     "name": "stdout",
     "output_type": "stream",
     "text": [
      "total 9.7G\r\n",
      "-rw-rw-r-- 1 ubuntu ubuntu  19K Aug  1 23:58 Untitled.ipynb\r\n",
      "-rw-rw-r-- 1 ubuntu ubuntu    6 Aug  1 23:58 README.md\r\n",
      "-rw-rw-r-- 1 ubuntu ubuntu  91K Aug  1 23:58 model.h5_save\r\n",
      "drwxrwxr-x 2 ubuntu ubuntu 4.0K Aug  1 23:58 \u001b[0m\u001b[01;34muda\u001b[0m/\r\n",
      "-rw-rw-r-- 1 ubuntu ubuntu 112K Aug  1 23:58 sample_submission.csv\r\n",
      "-rw-rw-r-- 1 ubuntu ubuntu 307K Aug  1 23:58 pred.csv\r\n",
      "drwxrwxr-x 4 ubuntu ubuntu 4.0K Aug  2 00:00 \u001b[01;34mtrain2\u001b[0m/\r\n",
      "drwxrwxr-x 2 ubuntu ubuntu 4.0K Aug  2 00:00 \u001b[01;34mtest2\u001b[0m/\r\n",
      "-rw-rw-r-- 1 ubuntu ubuntu  14K Aug  2 09:52 graduation_project.ipynb\r\n",
      "-rw-rw-r-- 1 ubuntu ubuntu 9.7G Aug  2 10:03 gap_InceptionResNetV2.h5\r\n"
     ]
    }
   ],
   "source": [
    "ls -ltrh"
   ]
  },
  {
   "cell_type": "code",
   "execution_count": 32,
   "metadata": {},
   "outputs": [],
   "source": [
    "rm -rf /home/ubuntu/.kaggle/competitions/dogs-vs-cats-redux-kernels-edition/*.zip"
   ]
  },
  {
   "cell_type": "code",
   "execution_count": 29,
   "metadata": {},
   "outputs": [
    {
     "name": "stdout",
     "output_type": "stream",
     "text": [
      "-rw-rw-r-- 1 ubuntu ubuntu 272M Aug  1 23:47 \u001b[0m\u001b[01;31m/home/ubuntu/.kaggle/competitions/dogs-vs-cats-redux-kernels-edition/test.zip\u001b[0m\u001b[K\r\n",
      "-rw-rw-r-- 1 ubuntu ubuntu 544M Aug  1 23:47 \u001b[01;31m/home/ubuntu/.kaggle/competitions/dogs-vs-cats-redux-kernels-edition/train.zip\u001b[0m\u001b[K\r\n"
     ]
    }
   ],
   "source": [
    "ls -ltrh /home/ubuntu/.kaggle/competitions/dogs-vs-cats-redux-kernels-edition/*.zip"
   ]
  },
  {
   "cell_type": "code",
   "execution_count": 31,
   "metadata": {},
   "outputs": [
    {
     "name": "stdout",
     "output_type": "stream",
     "text": [
      "total 1.1G\r\n",
      "-rw-rw-r--  1 ubuntu ubuntu 294M May 25  2017 gap_Xception.h5\r\n",
      "-rw-rw-r--  1 ubuntu ubuntu  74M May 25  2017 gap_VGG19.h5\r\n",
      "-rw-rw-r--  1 ubuntu ubuntu  74M May 25  2017 gap_VGG16.h5\r\n",
      "-rw-rw-r--  1 ubuntu ubuntu 294M May 25  2017 gap_ResNet50.h5\r\n",
      "-rw-rw-r--  1 ubuntu ubuntu 294M May 25  2017 gap_InceptionV3.h5\r\n",
      "-rw-rw-r--  1 ubuntu ubuntu 2.8M Jul 18 02:00 Nvidia_Cloud_EULA.pdf\r\n",
      "drwxrwxr-x  5 ubuntu ubuntu 4.0K Jul 19 18:10 \u001b[0m\u001b[01;34mtutorials\u001b[0m/\r\n",
      "drwxrwxr-x  8 ubuntu ubuntu 4.0K Jul 19 18:10 \u001b[01;34mexamples\u001b[0m/\r\n",
      "-rw-rw-r--  1 ubuntu ubuntu 2.8K Jul 19 18:11 README\r\n",
      "drwxrwxr-x 24 ubuntu ubuntu 4.0K Jul 19 19:15 \u001b[01;34manaconda3\u001b[0m/\r\n",
      "drwxrwxr-x 10 ubuntu ubuntu 4.0K Jul 19 19:59 \u001b[01;34msrc\u001b[0m/\r\n",
      "-rw-rw-r--  1 ubuntu ubuntu 112K Aug  1 23:46 sample_submission.csv\r\n",
      "drwxrwxr-x  7 ubuntu ubuntu 4.0K Aug  2 10:07 \u001b[01;34muda\u001b[0m/\r\n"
     ]
    }
   ],
   "source": [
    "ls -ltrh /home/ubuntu/"
   ]
  },
  {
   "cell_type": "code",
   "execution_count": null,
   "metadata": {},
   "outputs": [
    {
     "name": "stdout",
     "output_type": "stream",
     "text": [
      "Found 25000 images belonging to 2 classes.\n",
      "Found 12500 images belonging to 1 classes.\n",
      "stage2\n",
      "ResNet50\n",
      "stage3\n",
      "  290/25000 [..............................] - ETA: 1:00:45"
     ]
    }
   ],
   "source": [
    "\n",
    "def write_gap(MODEL, image_size, lambda_func=None):\n",
    "    width = image_size[0]\n",
    "    height = image_size[1]\n",
    "    x = Input((height, width, 3))\n",
    "    if lambda_func:\n",
    "        x = Lambda(lambda_func)(x)\n",
    "\n",
    "    base_model = MODEL(input_tensor=x, weights='imagenet', include_top=False)\n",
    "    model = Model(base_model.input, GlobalAveragePooling2D()(base_model.output))\n",
    "\n",
    "    gen = ImageDataGenerator()\n",
    "    train_generator = gen.flow_from_directory(\"train2\", image_size, shuffle=False, \n",
    "                                              batch_size=16)\n",
    "    test_generator = gen.flow_from_directory(\"test2\", image_size, shuffle=False, \n",
    "                                             batch_size=16, class_mode=None)\n",
    "    print(\"stage2\")\n",
    "\n",
    "    #my add starts\n",
    "    train_filenames = train_generator.filenames\n",
    "    train_nb_samples = len(train_filenames)\n",
    "\n",
    "    test_filenames = test_generator.filenames\n",
    "    test_nb_samples = len(test_filenames)\n",
    "    \n",
    "    #my add finish\n",
    "    \n",
    "    print(\"{}\".format(MODEL.__name__))\n",
    "    print(\"stage3\")\n",
    "    \n",
    "    train = model.predict_generator(train_generator,steps=train_nb_samples,verbose=1)\n",
    "    test = model.predict_generator(test_generator,steps=test_nb_samples,verbose=1)\n",
    "    \n",
    "    print(\"stage4\")\n",
    "\n",
    "                                   \n",
    "    with h5py.File(\"gap_%s.h5\"%MODEL.__name__) as h:\n",
    "        h.create_dataset(\"train\", data=train)\n",
    "        h.create_dataset(\"test\", data=test)\n",
    "        h.create_dataset(\"label\", data=train_generator.classes)\n",
    "        \n",
    "write_gap(ResNet50, (224, 224), resnet50.preprocess_input)\n",
    "        \n",
    "'''\n",
    "write_gap(InceptionResNetV2, (299, 299), inception_resnet_v2.preprocess_input)\n",
    "\n",
    "\n",
    "write_gap(ResNet50, (224, 224), resnet50.preprocess_input)\n",
    "write_gap(InceptionV3, (299, 299), inception_v3.preprocess_input)\n",
    "write_gap(Xception, (299, 299), xception.preprocess_input)\n",
    "'''\n"
   ]
  },
  {
   "cell_type": "code",
   "execution_count": 6,
   "metadata": {},
   "outputs": [
    {
     "name": "stdout",
     "output_type": "stream",
     "text": [
      "test\n"
     ]
    }
   ],
   "source": [
    "print(\"test\")"
   ]
  },
  {
   "cell_type": "code",
   "execution_count": 3,
   "metadata": {},
   "outputs": [
    {
     "data": {
      "text/plain": [
       "[]"
      ]
     },
     "execution_count": 3,
     "metadata": {},
     "output_type": "execute_result"
    }
   ],
   "source": [
    "K.tensorflow_backend._get_available_gpus()"
   ]
  },
  {
   "cell_type": "code",
   "execution_count": 11,
   "metadata": {},
   "outputs": [],
   "source": [
    "import tensorflow as tf\n",
    "import keras\n",
    "config = tf.ConfigProto( device_count = {'GPU':1,'CPU':4})\n",
    "sess = tf.Session(config=config)\n",
    "keras.backend.set_session(sess)"
   ]
  },
  {
   "cell_type": "code",
   "execution_count": 13,
   "metadata": {},
   "outputs": [
    {
     "data": {
      "text/plain": [
       "[]"
      ]
     },
     "execution_count": 13,
     "metadata": {},
     "output_type": "execute_result"
    }
   ],
   "source": [
    "K.tensorflow_backend._get_available_gpus()\n"
   ]
  },
  {
   "cell_type": "code",
   "execution_count": 1,
   "metadata": {},
   "outputs": [
    {
     "name": "stderr",
     "output_type": "stream",
     "text": [
      "/home/ubuntu/anaconda3/lib/python3.6/site-packages/h5py/__init__.py:36: FutureWarning: Conversion of the second argument of issubdtype from `float` to `np.floating` is deprecated. In future, it will be treated as `np.float64 == np.dtype(float).type`.\n",
      "  from ._conv import register_converters as _register_converters\n"
     ]
    },
    {
     "name": "stdout",
     "output_type": "stream",
     "text": [
      "[name: \"/device:CPU:0\"\n",
      "device_type: \"CPU\"\n",
      "memory_limit: 268435456\n",
      "locality {\n",
      "}\n",
      "incarnation: 11268157532926125419\n",
      "]\n"
     ]
    }
   ],
   "source": [
    "from tensorflow.python.client import device_lib\n",
    "print(device_lib.list_local_devices())"
   ]
  },
  {
   "cell_type": "code",
   "execution_count": 2,
   "metadata": {},
   "outputs": [
    {
     "name": "stdout",
     "output_type": "stream",
     "text": [
      "/device:GPU:0\n"
     ]
    }
   ],
   "source": [
    "import tensorflow as tf\n",
    "\n",
    "if tf.test.gpu_device_name():\n",
    "    print(\"{}\".format(tf.test.gpu_device_name()))\n",
    "else:\n",
    "    print(\"plz install gpu version\")"
   ]
  },
  {
   "cell_type": "code",
   "execution_count": 3,
   "metadata": {},
   "outputs": [
    {
     "ename": "NameError",
     "evalue": "name 'input_model' is not defined",
     "output_type": "error",
     "traceback": [
      "\u001b[0;31m---------------------------------------------------------------------------\u001b[0m",
      "\u001b[0;31mNameError\u001b[0m                                 Traceback (most recent call last)",
      "\u001b[0;32m<ipython-input-3-bdbb3f28c35d>\u001b[0m in \u001b[0;36m<module>\u001b[0;34m()\u001b[0m\n\u001b[0;32m----> 1\u001b[0;31m \u001b[0;32mwith\u001b[0m \u001b[0mh5py\u001b[0m\u001b[0;34m.\u001b[0m\u001b[0mFile\u001b[0m\u001b[0;34m(\u001b[0m\u001b[0;34m\"gap_%s.h5\"\u001b[0m\u001b[0;34m%\u001b[0m\u001b[0minput_model\u001b[0m\u001b[0;34m.\u001b[0m\u001b[0mfunc_name\u001b[0m\u001b[0;34m)\u001b[0m \u001b[0;32mas\u001b[0m \u001b[0mh\u001b[0m\u001b[0;34m:\u001b[0m\u001b[0;34m\u001b[0m\u001b[0m\n\u001b[0m\u001b[1;32m      2\u001b[0m     \u001b[0mh\u001b[0m\u001b[0;34m.\u001b[0m\u001b[0mcreate_dataset\u001b[0m\u001b[0;34m(\u001b[0m\u001b[0;34m\"train\"\u001b[0m\u001b[0;34m,\u001b[0m \u001b[0mdata\u001b[0m\u001b[0;34m=\u001b[0m\u001b[0mtrain\u001b[0m\u001b[0;34m)\u001b[0m\u001b[0;34m\u001b[0m\u001b[0m\n\u001b[1;32m      3\u001b[0m     \u001b[0mh\u001b[0m\u001b[0;34m.\u001b[0m\u001b[0mcreate_dataset\u001b[0m\u001b[0;34m(\u001b[0m\u001b[0;34m\"test\"\u001b[0m\u001b[0;34m,\u001b[0m \u001b[0mdata\u001b[0m\u001b[0;34m=\u001b[0m\u001b[0mtest\u001b[0m\u001b[0;34m)\u001b[0m\u001b[0;34m\u001b[0m\u001b[0m\n\u001b[1;32m      4\u001b[0m     \u001b[0mh\u001b[0m\u001b[0;34m.\u001b[0m\u001b[0mcreate_dataset\u001b[0m\u001b[0;34m(\u001b[0m\u001b[0;34m\"label\"\u001b[0m\u001b[0;34m,\u001b[0m \u001b[0mdata\u001b[0m\u001b[0;34m=\u001b[0m\u001b[0mtrain_generator\u001b[0m\u001b[0;34m.\u001b[0m\u001b[0mclasses\u001b[0m\u001b[0;34m)\u001b[0m\u001b[0;34m\u001b[0m\u001b[0m\n",
      "\u001b[0;31mNameError\u001b[0m: name 'input_model' is not defined"
     ]
    }
   ],
   "source": []
  },
  {
   "cell_type": "code",
   "execution_count": 7,
   "metadata": {},
   "outputs": [
    {
     "name": "stdout",
     "output_type": "stream",
     "text": [
      "Found 20000 images belonging to 2 classes.\n",
      "Found 4994 images belonging to 2 classes.\n",
      "Found 12500 images belonging to 1 classes.\n"
     ]
    }
   ],
   "source": [
    "from keras.applications.inception_resnet_v2 import preprocess_input\n",
    "\n",
    "img_width, img_height = 299,299\n",
    "\n",
    "epochs = 10\n",
    "batch_size = 16\n",
    "\n",
    "base_model = Sequential()\n",
    "base_model.add(Conv2D(32,(3,3), input_shape=get_input_shape(img_width,img_height)))\n",
    "base_model.add(Activation('relu'))\n",
    "base_model.add(MaxPooling2D(pool_size=(2,2)))\n",
    "\n",
    "base_model.add(Conv2D(32,(3,3)))\n",
    "base_model.add(Activation('relu'))\n",
    "base_model.add(MaxPooling2D(pool_size=(2,2)))\n",
    "\n",
    "base_model.add(Conv2D(64,(3,3)))\n",
    "base_model.add(Activation('relu'))\n",
    "base_model.add(MaxPooling2D(pool_size=(2,2)))\n",
    "\n",
    "base_model.add(Flatten())\n",
    "base_model.add(Dense(64))\n",
    "base_model.add(Activation('relu'))\n",
    "base_model.add(Dropout(0.5))\n",
    "base_model.add(Dense(1))\n",
    "base_model.add(Activation('sigmoid'))\n",
    "\n",
    "base_model.compile(loss='binary_crossentropy',\n",
    "                  optimizer='rmsprop',\n",
    "                  metrics=['accuracy'])\n",
    "\n",
    "#seems rescale is very important.\n",
    "#image_gen = ImageDataGenerator(featurewise_center=False,fill_mode='nearest',\n",
    "#                               cval=0,horizontal_flip=True,rotation_range=20,shear_range=0.2,rescale=1./255)\n",
    "\n",
    "\n",
    "\n",
    "image_gen = ImageDataGenerator(preprocessing_function=preprocess_input)\n",
    "\n",
    "# validation_split=0.4, cval=0, fill_mode='constant'\n",
    "\n",
    "train_gen = image_gen.flow_from_directory(\"train\", (img_width,img_height), shuffle=True,interpolation='bicubic',\n",
    "                                    batch_size=16)# subset = \"training\",class_mode=\"categorical\"\n",
    "\n",
    "validation_gen = image_gen.flow_from_directory(\"validation\", (img_width,img_height), shuffle=False,interpolation='bicubic',\n",
    "                                    batch_size=16) # 'binary',\n",
    "\n",
    "test_gen = image_gen.flow_from_directory(\"test2\", (img_width,img_height), shuffle=False, \n",
    "                                         batch_size=8, class_mode=None)\n"
   ]
  },
  {
   "cell_type": "code",
   "execution_count": 5,
   "metadata": {},
   "outputs": [
    {
     "name": "stdout",
     "output_type": "stream",
     "text": [
      "Epoch 1/25\n",
      "1063/1063 [==============================] - 1740s 2s/step - loss: 0.5810 - acc: 0.8876 - val_loss: 0.4140 - val_acc: 0.8664\n",
      "Epoch 2/25\n",
      "1063/1063 [==============================] - 1653s 2s/step - loss: 0.3496 - acc: 0.9324 - val_loss: 0.7277 - val_acc: 0.8818\n",
      "Epoch 3/25\n",
      "1063/1063 [==============================] - 1655s 2s/step - loss: 0.2149 - acc: 0.9509 - val_loss: 1.3040 - val_acc: 0.8817\n",
      "Epoch 4/25\n",
      "1063/1063 [==============================] - 1651s 2s/step - loss: 0.1203 - acc: 0.9658 - val_loss: 0.1403 - val_acc: 0.9525\n",
      "Epoch 5/25\n",
      "1063/1063 [==============================] - 1651s 2s/step - loss: 0.1072 - acc: 0.9702 - val_loss: 0.0882 - val_acc: 0.9707\n",
      "Epoch 6/25\n",
      "1063/1063 [==============================] - 1655s 2s/step - loss: 0.2139 - acc: 0.9674 - val_loss: 0.1273 - val_acc: 0.9609\n",
      "Epoch 7/25\n",
      "1063/1063 [==============================] - 1651s 2s/step - loss: 0.0933 - acc: 0.9769 - val_loss: 0.1290 - val_acc: 0.9650\n",
      "Epoch 8/25\n",
      "1063/1063 [==============================] - 1650s 2s/step - loss: 0.0800 - acc: 0.9805 - val_loss: 0.1184 - val_acc: 0.9678\n",
      "Epoch 9/25\n",
      "1063/1063 [==============================] - 1651s 2s/step - loss: 0.1573 - acc: 0.9772 - val_loss: 0.1398 - val_acc: 0.9655\n",
      "Epoch 10/25\n",
      "1063/1063 [==============================] - 1651s 2s/step - loss: 0.0504 - acc: 0.9865 - val_loss: 0.1879 - val_acc: 0.9537\n",
      "Epoch 11/25\n",
      "1063/1063 [==============================] - 1651s 2s/step - loss: 0.0457 - acc: 0.9877 - val_loss: 0.1545 - val_acc: 0.9686\n",
      "Epoch 12/25\n",
      "1063/1063 [==============================] - 1651s 2s/step - loss: 0.1011 - acc: 0.9863 - val_loss: 1.8835 - val_acc: 0.8563\n",
      "Epoch 13/25\n",
      "1063/1063 [==============================] - 1653s 2s/step - loss: 0.0545 - acc: 0.9897 - val_loss: 0.1487 - val_acc: 0.9696\n",
      "Epoch 14/25\n",
      "1063/1063 [==============================] - 1652s 2s/step - loss: 0.0358 - acc: 0.9920 - val_loss: 0.2381 - val_acc: 0.9614\n",
      "Epoch 15/25\n",
      "1063/1063 [==============================] - 1652s 2s/step - loss: 0.0372 - acc: 0.9909 - val_loss: 0.1550 - val_acc: 0.9701\n",
      "Epoch 16/25\n",
      "1063/1063 [==============================] - 1651s 2s/step - loss: 0.0705 - acc: 0.9894 - val_loss: 0.1591 - val_acc: 0.9677\n",
      "Epoch 17/25\n",
      "1063/1063 [==============================] - 1649s 2s/step - loss: 0.0277 - acc: 0.9935 - val_loss: 0.2448 - val_acc: 0.9621\n",
      "Epoch 18/25\n",
      "1063/1063 [==============================] - 1651s 2s/step - loss: 0.0332 - acc: 0.9930 - val_loss: 0.1407 - val_acc: 0.9677\n",
      "Epoch 19/25\n",
      "1063/1063 [==============================] - 1651s 2s/step - loss: 0.0263 - acc: 0.9945 - val_loss: 0.1710 - val_acc: 0.9664\n",
      "Epoch 20/25\n",
      "1063/1063 [==============================] - 1652s 2s/step - loss: 0.0299 - acc: 0.9934 - val_loss: 0.1913 - val_acc: 0.9610\n",
      "Epoch 21/25\n",
      "1063/1063 [==============================] - 1649s 2s/step - loss: 0.0218 - acc: 0.9944 - val_loss: 0.1993 - val_acc: 0.9662\n",
      "Epoch 22/25\n",
      "1063/1063 [==============================] - 1643s 2s/step - loss: 0.0193 - acc: 0.9961 - val_loss: 0.2079 - val_acc: 0.9697\n",
      "Epoch 23/25\n",
      "1063/1063 [==============================] - 1642s 2s/step - loss: 0.0258 - acc: 0.9952 - val_loss: 0.2739 - val_acc: 0.9688\n",
      "Epoch 24/25\n",
      "1063/1063 [==============================] - 1644s 2s/step - loss: 0.0260 - acc: 0.9954 - val_loss: 0.2175 - val_acc: 0.9709\n",
      "Epoch 25/25\n",
      "1063/1063 [==============================] - 1643s 2s/step - loss: 0.0226 - acc: 0.9958 - val_loss: 0.2215 - val_acc: 0.9670\n"
     ]
    }
   ],
   "source": [
    "net = InceptionResNetV2(include_top=False, \n",
    "                        weights='imagenet', \n",
    "                        input_tensor=None, \n",
    "                        input_shape=get_input_shape(299,299)) \n",
    "x = net.output \n",
    "x = Flatten()(x) \n",
    "x = Dropout(0.2)(x) \n",
    "output_layer = Dense(2, activation='sigmoid')(x) \n",
    "net_final = Model(inputs=net.input, outputs=output_layer) \n",
    "\n",
    "\n",
    "for layer in net_final.layers[:100]: \n",
    "    layer.trainable = False \n",
    "for layer in net_final.layers[100:]: \n",
    "    layer.trainable = True \n",
    "\n",
    "net_final.compile(optimizer='rmsprop', \n",
    "                  loss='binary_crossentropy', metrics=['accuracy']) \n",
    "\n",
    "\n",
    "# train the model \n",
    "history=net_final.fit_generator(generator=train_gen,\n",
    "                    validation_data=validation_gen,epochs=25)"
   ]
  },
  {
   "cell_type": "code",
   "execution_count": 7,
   "metadata": {},
   "outputs": [
    {
     "data": {
      "image/png": "[encoded data removed]",
      "text/plain": [
       "<Figure size 432x288 with 1 Axes>"
      ]
     },
     "metadata": {},
     "output_type": "display_data"
    },
    {
     "data": {
      "image/png": "[encoded data removed]",
      "text/plain": [
       "<Figure size 432x288 with 1 Axes>"
      ]
     },
     "metadata": {},
     "output_type": "display_data"
    }
   ],
   "source": [
    "%matplotlib inline  \n",
    "import matplotlib.pyplot as plt\n",
    "acc = history.history['acc']\n",
    "val_acc = history.history['val_acc']\n",
    "loss = history.history['loss']\n",
    "val_loss = history.history['val_loss']\n",
    "epochs = range(1, len(acc) + 1)\n",
    "plt.plot(epochs, acc, 'bo', label='Training acc')\n",
    "plt.plot(epochs, val_acc, 'b', label='Validation acc')\n",
    "plt.title('Training and validation accuracy')\n",
    "plt.legend()\n",
    "plt.figure()\n",
    "plt.plot(epochs, loss, 'bo', label='Training loss')\n",
    "plt.plot(epochs, val_loss, 'b', label='Validation loss')\n",
    "plt.title('Training and validation loss')\n",
    "plt.legend()\n",
    "plt.show()"
   ]
  },
  {
   "cell_type": "code",
   "execution_count": 8,
   "metadata": {},
   "outputs": [],
   "source": [
    "net_final.save_weights('My_InceptionResNetV2_BETA.h5')"
   ]
  },
  {
   "cell_type": "code",
   "execution_count": null,
   "metadata": {},
   "outputs": [
    {
     "name": "stdout",
     "output_type": "stream",
     "text": [
      "Epoch 1/50\n",
      "1250/1250 [==============================] - 1947s 2s/step - loss: 0.4282 - acc: 0.9039 - val_loss: 1.0553 - val_acc: 0.8558\n",
      "Epoch 2/50\n",
      "1250/1250 [==============================] - 1853s 1s/step - loss: 0.2143 - acc: 0.9461 - val_loss: 0.3653 - val_acc: 0.9475\n",
      "Epoch 3/50\n",
      "1250/1250 [==============================] - 1849s 1s/step - loss: 0.1142 - acc: 0.9634 - val_loss: 0.0912 - val_acc: 0.9664\n",
      "Epoch 4/50\n",
      "1250/1250 [==============================] - 1848s 1s/step - loss: 0.1218 - acc: 0.9679 - val_loss: 2.0925 - val_acc: 0.8329\n",
      "Epoch 5/50\n",
      "1250/1250 [==============================] - 1842s 1s/step - loss: 0.0817 - acc: 0.9745 - val_loss: 0.1271 - val_acc: 0.9639\n",
      "Epoch 6/50\n",
      "1250/1250 [==============================] - 1841s 1s/step - loss: 0.0754 - acc: 0.9780 - val_loss: 0.1528 - val_acc: 0.9578\n",
      "Epoch 7/50\n",
      "1250/1250 [==============================] - 1839s 1s/step - loss: 0.0650 - acc: 0.9805 - val_loss: 0.1136 - val_acc: 0.9643\n",
      "Epoch 8/50\n",
      "1250/1250 [==============================] - 1842s 1s/step - loss: 0.0606 - acc: 0.9835 - val_loss: 0.1575 - val_acc: 0.9623\n",
      "Epoch 9/50\n",
      "1250/1250 [==============================] - 1841s 1s/step - loss: 0.0532 - acc: 0.9855 - val_loss: 0.1406 - val_acc: 0.9688\n",
      "Epoch 10/50\n",
      "1250/1250 [==============================] - 1841s 1s/step - loss: 0.0618 - acc: 0.9863 - val_loss: 0.1073 - val_acc: 0.9755\n",
      "Epoch 11/50\n",
      "1250/1250 [==============================] - 1841s 1s/step - loss: 0.0474 - acc: 0.9885 - val_loss: 0.1109 - val_acc: 0.9679\n",
      "Epoch 12/50\n",
      "1250/1250 [==============================] - 1842s 1s/step - loss: 0.0419 - acc: 0.9897 - val_loss: 0.1700 - val_acc: 0.9642\n",
      "Epoch 13/50\n",
      "1250/1250 [==============================] - 1842s 1s/step - loss: 0.0476 - acc: 0.9888 - val_loss: 0.1697 - val_acc: 0.9705\n",
      "Epoch 14/50\n",
      "1250/1250 [==============================] - 1838s 1s/step - loss: 0.0296 - acc: 0.9925 - val_loss: 0.1547 - val_acc: 0.9649\n",
      "Epoch 15/50\n",
      "1250/1250 [==============================] - 1839s 1s/step - loss: 0.0371 - acc: 0.9920 - val_loss: 0.3210 - val_acc: 0.9586\n",
      "Epoch 16/50\n",
      "1250/1250 [==============================] - 1840s 1s/step - loss: 0.0434 - acc: 0.9907 - val_loss: 0.1403 - val_acc: 0.9735\n",
      "Epoch 17/50\n",
      "1250/1250 [==============================] - 1837s 1s/step - loss: 0.0472 - acc: 0.9915 - val_loss: 0.2550 - val_acc: 0.9643\n",
      "Epoch 18/50\n",
      "1250/1250 [==============================] - 1841s 1s/step - loss: 0.0340 - acc: 0.9929 - val_loss: 0.1278 - val_acc: 0.9744\n",
      "Epoch 19/50\n",
      "1250/1250 [==============================] - 1835s 1s/step - loss: 0.0479 - acc: 0.9932 - val_loss: 0.1804 - val_acc: 0.9753\n",
      "Epoch 20/50\n",
      "1250/1250 [==============================] - 1835s 1s/step - loss: 0.0321 - acc: 0.9935 - val_loss: 0.1576 - val_acc: 0.9747\n",
      "Epoch 21/50\n",
      "1250/1250 [==============================] - 1834s 1s/step - loss: 0.0231 - acc: 0.9943 - val_loss: 0.2000 - val_acc: 0.9692\n",
      "Epoch 22/50\n",
      "1250/1250 [==============================] - 1830s 1s/step - loss: 0.0289 - acc: 0.9949 - val_loss: 0.2429 - val_acc: 0.9731\n",
      "Epoch 23/50\n",
      "1250/1250 [==============================] - 1824s 1s/step - loss: 0.0306 - acc: 0.9950 - val_loss: 0.2165 - val_acc: 0.9723\n",
      "Epoch 24/50\n",
      "1250/1250 [==============================] - 1829s 1s/step - loss: 0.0344 - acc: 0.9940 - val_loss: 0.1721 - val_acc: 0.9732\n",
      "Epoch 25/50\n",
      "1250/1250 [==============================] - 1830s 1s/step - loss: 0.0258 - acc: 0.9950 - val_loss: 0.1860 - val_acc: 0.9751\n",
      "Epoch 26/50\n",
      "1250/1250 [==============================] - 1824s 1s/step - loss: 0.0273 - acc: 0.9957 - val_loss: 0.2973 - val_acc: 0.9658\n",
      "Epoch 27/50\n",
      "1250/1250 [==============================] - 1825s 1s/step - loss: 0.0250 - acc: 0.9958 - val_loss: 0.2478 - val_acc: 0.9686\n",
      "Epoch 28/50\n",
      "1250/1250 [==============================] - 1825s 1s/step - loss: 0.0233 - acc: 0.9959 - val_loss: 0.2334 - val_acc: 0.9703\n",
      "Epoch 29/50\n",
      "1250/1250 [==============================] - 1820s 1s/step - loss: 0.0217 - acc: 0.9967 - val_loss: 0.2841 - val_acc: 0.9657\n",
      "Epoch 30/50\n",
      "1250/1250 [==============================] - 1820s 1s/step - loss: 0.0331 - acc: 0.9957 - val_loss: 0.3278 - val_acc: 0.9654\n",
      "Epoch 31/50\n",
      "1250/1250 [==============================] - 1826s 1s/step - loss: 0.0291 - acc: 0.9956 - val_loss: 0.2116 - val_acc: 0.9729\n",
      "Epoch 32/50\n",
      "1250/1250 [==============================] - 1829s 1s/step - loss: 0.0215 - acc: 0.9957 - val_loss: 0.2045 - val_acc: 0.9721\n",
      "Epoch 33/50\n",
      "1250/1250 [==============================] - 1823s 1s/step - loss: 0.0185 - acc: 0.9971 - val_loss: 0.1999 - val_acc: 0.9732\n",
      "Epoch 34/50\n",
      "1250/1250 [==============================] - 1821s 1s/step - loss: 0.0238 - acc: 0.9966 - val_loss: 0.2357 - val_acc: 0.9711\n",
      "Epoch 35/50\n",
      "1250/1250 [==============================] - 1822s 1s/step - loss: 0.0300 - acc: 0.9957 - val_loss: 0.2463 - val_acc: 0.9713\n",
      "Epoch 36/50\n",
      "1250/1250 [==============================] - 1818s 1s/step - loss: 0.0233 - acc: 0.9970 - val_loss: 0.2814 - val_acc: 0.9724\n",
      "Epoch 37/50\n",
      "1250/1250 [==============================] - 1818s 1s/step - loss: 0.0231 - acc: 0.9964 - val_loss: 0.2213 - val_acc: 0.9717\n",
      "Epoch 38/50\n",
      "1250/1250 [==============================] - 1812s 1s/step - loss: 0.0224 - acc: 0.9971 - val_loss: 0.2415 - val_acc: 0.9750\n",
      "Epoch 39/50\n",
      "1250/1250 [==============================] - 1813s 1s/step - loss: 0.0211 - acc: 0.9969 - val_loss: 0.2340 - val_acc: 0.9789\n",
      "Epoch 40/50\n",
      "1250/1250 [==============================] - 1813s 1s/step - loss: 0.0228 - acc: 0.9971 - val_loss: 0.3001 - val_acc: 0.9710\n",
      "Epoch 41/50\n",
      "1250/1250 [==============================] - 1812s 1s/step - loss: 0.0231 - acc: 0.9974 - val_loss: 0.2922 - val_acc: 0.9709\n",
      "Epoch 42/50\n",
      "1250/1250 [==============================] - 1811s 1s/step - loss: 0.0227 - acc: 0.9976 - val_loss: 0.3596 - val_acc: 0.9659\n",
      "Epoch 43/50\n",
      "1250/1250 [==============================] - 1810s 1s/step - loss: 0.0287 - acc: 0.9964 - val_loss: 0.2840 - val_acc: 0.9724\n",
      "Epoch 44/50\n",
      "1250/1250 [==============================] - 1811s 1s/step - loss: 0.0263 - acc: 0.9966 - val_loss: 0.2731 - val_acc: 0.9752\n",
      "Epoch 45/50\n",
      "1250/1250 [==============================] - 1811s 1s/step - loss: 0.0218 - acc: 0.9968 - val_loss: 0.2598 - val_acc: 0.9746\n",
      "Epoch 46/50\n",
      "1250/1250 [==============================] - 1808s 1s/step - loss: 0.0185 - acc: 0.9976 - val_loss: 0.2688 - val_acc: 0.9740\n",
      "Epoch 47/50\n",
      "  93/1250 [=>............................] - ETA: 25:43 - loss: 0.0157 - acc: 0.9987"
     ]
    }
   ],
   "source": [
    "net = InceptionResNetV2(include_top=False, \n",
    "                        weights='imagenet', \n",
    "                        input_tensor=None, \n",
    "                        input_shape=get_input_shape(299,299)) \n",
    "x = net.output \n",
    "x = Flatten()(x) \n",
    "x = Dropout(0.5)(x) \n",
    "output_layer = Dense(2, activation='sigmoid')(x) \n",
    "net_final = Model(inputs=net.input, outputs=output_layer) \n",
    "\n",
    "\n",
    "for layer in net_final.layers[:100]: \n",
    "    layer.trainable = False \n",
    "for layer in net_final.layers[100:]: \n",
    "    layer.trainable = True \n",
    "\n",
    "#my_optimizer=\n",
    "    \n",
    "net_final.compile(optimizer='rmsprop', \n",
    "                  loss='binary_crossentropy', metrics=['accuracy']) \n",
    "\n",
    "\n",
    "# train the model \n",
    "history=net_final.fit_generator(generator=train_gen,\n",
    "                    validation_data=validation_gen,epochs=50)"
   ]
  },
  {
   "cell_type": "code",
   "execution_count": null,
   "metadata": {},
   "outputs": [],
   "source": []
  }
 ],
 "metadata": {
  "kernelspec": {
   "display_name": "Python [conda env:tensorflow_p36]",
   "language": "python",
   "name": "conda-env-tensorflow_p36-py"
  },
  "language_info": {
   "codemirror_mode": {
    "name": "ipython",
    "version": 3
   },
   "file_extension": ".py",
   "mimetype": "text/x-python",
   "name": "python",
   "nbconvert_exporter": "python",
   "pygments_lexer": "ipython3",
   "version": "3.6.6"
  }
 },
 "nbformat": 4,
 "nbformat_minor": 2
}
